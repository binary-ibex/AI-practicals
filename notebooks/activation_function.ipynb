{
  "nbformat": 4,
  "nbformat_minor": 0,
  "metadata": {
    "colab": {
      "name": "activation function.ipynb",
      "provenance": [],
      "private_outputs": true,
      "collapsed_sections": [],
      "authorship_tag": "ABX9TyNZp4niJrufARGTXDwesVEc",
      "include_colab_link": true
    },
    "kernelspec": {
      "name": "python3",
      "display_name": "Python 3"
    }
  },
  "cells": [
    {
      "cell_type": "markdown",
      "metadata": {
        "id": "view-in-github",
        "colab_type": "text"
      },
      "source": [
        "<a href=\"https://colab.research.google.com/github/binary-ibex/AI-practicals/blob/main/notebooks/activation_function.ipynb\" target=\"_parent\"><img src=\"https://colab.research.google.com/assets/colab-badge.svg\" alt=\"Open In Colab\"/></a>"
      ]
    },
    {
      "cell_type": "markdown",
      "metadata": {
        "id": "JX1vefNOyNvY"
      },
      "source": [
        "# Activation function \n",
        "\n",
        "\n",
        "\n",
        "### What, Why and Which \n",
        "\n",
        "https://medium.com/@snaily16/what-why-and-which-activation-functions-b2bf748c0441\n",
        "<br>\n",
        "<br>\n",
        "\n"
      ]
    },
    {
      "cell_type": "code",
      "metadata": {
        "id": "vRmUGU6QqWl2"
      },
      "source": [
        "#import required library \n",
        "import numpy as np "
      ],
      "execution_count": null,
      "outputs": []
    },
    {
      "cell_type": "markdown",
      "metadata": {
        "id": "uXQobqpjmJ_H"
      },
      "source": [
        "\n",
        "<br>\n",
        "<br>\n",
        "<br>\n",
        "\n",
        "### Binary step activation function \n",
        "\n",
        "$\n",
        "\\begin{align}\n",
        "f(x) = 1 \\quad x>0 \n",
        "\\\\= 0\\quad x<0\n",
        "\\end{align}\n",
        "$"
      ]
    },
    {
      "cell_type": "code",
      "metadata": {
        "id": "9wOEsVYBlZgt"
      },
      "source": [
        "#Binary step activation  function \n",
        "\n",
        "def binary_step(a):\n",
        "    if a>0:\n",
        "        return 1\n",
        "    else:\n",
        "        return 0\n",
        "\n",
        "#try some input \n",
        "result = binary_step(-10)\n",
        "print(result)"
      ],
      "execution_count": null,
      "outputs": []
    },
    {
      "cell_type": "markdown",
      "metadata": {
        "id": "PgoSS1BBnv9p"
      },
      "source": [
        "<br>\n",
        "<br>\n",
        "\n",
        "### Sigmoid activation function \n",
        "\n",
        "$\n",
        "f(x) = \\Large\\frac{1}{1+e^{-x}}\n",
        "$"
      ]
    },
    {
      "cell_type": "code",
      "metadata": {
        "id": "sc97YDF0l36d"
      },
      "source": [
        "\n",
        "# sigmoid activation function \n",
        "\n",
        "def sigmoid(x):\n",
        "    return 1 / (1 + np.exp(-x))\n",
        "\n",
        "#try some input \n",
        "result  = sigmoid(10)\n",
        "print(result)\n",
        "result = sigmoid(-12)\n",
        "print(result)"
      ],
      "execution_count": null,
      "outputs": []
    },
    {
      "cell_type": "markdown",
      "metadata": {
        "id": "dfAyq5RjrAVq"
      },
      "source": [
        "<br>\n",
        "<br>\n",
        "\n",
        "### Hyperbolic Tangent Activation Function(Tanh) \n",
        "\n",
        "$\n",
        "f(x) = \\Large\\frac{2}{1+e^{-2x}} - 1\n",
        "$"
      ]
    },
    {
      "cell_type": "code",
      "metadata": {
        "id": "I4JEEMSfqqUf"
      },
      "source": [
        "def tanh(x):\n",
        "    return (2 /(1 + np.exp(-2*x))) - 1\n",
        "\n",
        "\n",
        "#try different value \n",
        "result = tanh(-2)\n",
        "print(result)\n",
        "\n"
      ],
      "execution_count": null,
      "outputs": []
    },
    {
      "cell_type": "markdown",
      "metadata": {
        "id": "TzsUo0emttM_"
      },
      "source": [
        "<br>\n",
        "<br>\n",
        "\n",
        "### ReLU activation function \n",
        "\n",
        "$\n",
        "f(x) = max(0, x)\n",
        "$"
      ]
    },
    {
      "cell_type": "code",
      "metadata": {
        "id": "R3Nn0oNZs81Z"
      },
      "source": [
        "def relu(x):\n",
        "    return max(0, x)\n",
        "\n",
        "\n",
        "#try different value\n",
        "result = relu(10)\n",
        "print(result)\n",
        "result = relu(-10)\n",
        "print(result)"
      ],
      "execution_count": null,
      "outputs": []
    },
    {
      "cell_type": "markdown",
      "metadata": {
        "id": "tq9YN9xrvmxo"
      },
      "source": [
        "<br>\n",
        "<br>\n",
        "\n",
        "### Leaky ReLU\n",
        "\n",
        "$\n",
        "f(x) = max(0.01*x, \\ x)\n",
        "$"
      ]
    },
    {
      "cell_type": "code",
      "metadata": {
        "id": "okjP665uvJsJ"
      },
      "source": [
        "def l_relu(x):\n",
        "    return max(0.01*x, x)\n",
        "\n",
        "#try input \n",
        "result = l_relu(-10)\n",
        "print(result)\n",
        "\n",
        "result = l_relu(10)\n",
        "print(result)"
      ],
      "execution_count": null,
      "outputs": []
    },
    {
      "cell_type": "markdown",
      "metadata": {
        "id": "TrO9n-w3wlJb"
      },
      "source": [
        "<br>\n",
        "<br>\n",
        "\n",
        "### Softmax activation function \n",
        "\n",
        "$\n",
        "f(x) = \\Large\\frac{e^{x_i}}{\\sum_{i=1}^{n} \\ e^{x_i}}\n",
        "$"
      ]
    },
    {
      "cell_type": "code",
      "metadata": {
        "id": "-QpchR42wM_j"
      },
      "source": [
        "def softmax(x):\n",
        "    return np.exp(x) / sum(np.exp(x))\n",
        "\n",
        "\n",
        "#try input \n",
        "data = np.array([1,2,3,4])\n",
        "\n",
        "result = softmax(data)\n",
        "\n",
        "print(result)\n"
      ],
      "execution_count": null,
      "outputs": []
    },
    {
      "cell_type": "code",
      "metadata": {
        "id": "YovuNP2gx5Jh"
      },
      "source": [
        ""
      ],
      "execution_count": null,
      "outputs": []
    }
  ]
}