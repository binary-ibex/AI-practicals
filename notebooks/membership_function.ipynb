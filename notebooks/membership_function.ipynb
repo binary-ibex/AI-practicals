{
  "nbformat": 4,
  "nbformat_minor": 0,
  "metadata": {
    "colab": {
      "name": "membership_function.ipynb",
      "provenance": [],
      "collapsed_sections": [],
      "authorship_tag": "ABX9TyMWoz8ourocPwDjxmQehhDt",
      "include_colab_link": true
    },
    "kernelspec": {
      "name": "python3",
      "display_name": "Python 3"
    }
  },
  "cells": [
    {
      "cell_type": "markdown",
      "metadata": {
        "id": "view-in-github",
        "colab_type": "text"
      },
      "source": [
        "<a href=\"https://colab.research.google.com/github/binary-ibex/AI-practicals/blob/main/notebooks/membership_function.ipynb\" target=\"_parent\"><img src=\"https://colab.research.google.com/assets/colab-badge.svg\" alt=\"Open In Colab\"/></a>"
      ]
    },
    {
      "cell_type": "markdown",
      "metadata": {
        "id": "tYm0uiqh-UzD"
      },
      "source": [
        "#Membership functions \n",
        "\n",
        "http://www.dma.fi.upm.es/recursos/aplicaciones/logica_borrosa/web/fuzzy_inferencia/funpert_en.htm\n",
        "\n"
      ]
    },
    {
      "cell_type": "code",
      "metadata": {
        "id": "YPvCpNnl_Jv9"
      },
      "source": [
        "#importing required library \n",
        "import numpy as np \n",
        "import matplotlib.pyplot as plt"
      ],
      "execution_count": null,
      "outputs": []
    },
    {
      "cell_type": "markdown",
      "metadata": {
        "id": "y1TUTzTqDgXK"
      },
      "source": [
        "## Triangular membership function"
      ]
    },
    {
      "cell_type": "code",
      "metadata": {
        "id": "NYrZKUCy-zTq"
      },
      "source": [
        "def triangular(i, params):\n",
        "    a,m,b = params\n",
        "    \n",
        "    if i<=a:\n",
        "        return 0\n",
        "    if a<i<=m:\n",
        "        return (i-a)/(m-a)\n",
        "    if m<i<b:\n",
        "        return (b-i)/(b-m)\n",
        "    if i>=b:\n",
        "        return 0\n",
        "\n",
        "#input\n",
        "x = np.arange(0,10,0.1)\n",
        "#output\n",
        "y = []\n",
        "for i in x:\n",
        "    y.append(triangular(i,[2,4,6]))\n",
        "\n",
        "plt.plot(x,y)\n",
        "plt.title('Triangular membership function', fontsize='19')\n",
        "plt.xlabel('x -->', fontsize='19')\n",
        "plt.ylabel('y -->', fontsize='19')\n",
        "plt.show()"
      ],
      "execution_count": null,
      "outputs": []
    },
    {
      "cell_type": "markdown",
      "metadata": {
        "id": "y4TdZYiBJUk2"
      },
      "source": [
        "### Trapezoidal membership function"
      ]
    },
    {
      "cell_type": "code",
      "metadata": {
        "id": "Ru3MN66PB4w3"
      },
      "source": [
        "def trapaziod(i, params):\n",
        "    a,b,c,d = params\n",
        "    \n",
        "    if i<=a or i>d:\n",
        "        return 0\n",
        "    if a<=i<=b:\n",
        "        return (i-a)/(b-a)\n",
        "    if b<=i<=c:\n",
        "        return 1\n",
        "    if c<=i<=d:\n",
        "        return (d-i)/(d-c)\n",
        "\n",
        "#input\n",
        "x = np.arange(0,10,0.1)\n",
        "#output\n",
        "y = []\n",
        "for i in x:\n",
        "    y.append(trapaziod(i,[2,4,6,8]))\n",
        "\n",
        "plt.plot(x,y)\n",
        "plt.title('Trapazoidal membership function', fontsize='19')\n",
        "plt.xlabel('x -->', fontsize='19')\n",
        "plt.ylabel('y -->', fontsize='19')\n",
        "plt.show()"
      ],
      "execution_count": null,
      "outputs": []
    },
    {
      "cell_type": "markdown",
      "metadata": {
        "id": "n0i5JU0fN9YB"
      },
      "source": [
        "### R membership function \n"
      ]
    },
    {
      "cell_type": "code",
      "metadata": {
        "id": "H0P_-PhjJ4ne"
      },
      "source": [
        "def r_function(i, params):\n",
        "    c,d = params\n",
        "    \n",
        "    if i>d:\n",
        "        return 0\n",
        "    if c<=i<=d:\n",
        "        return (d-i)/(d-c)\n",
        "    if i<c:\n",
        "        return 1\n",
        "\n",
        "#input\n",
        "x = np.arange(0,10,0.1)\n",
        "#output\n",
        "y = []\n",
        "for i in x:\n",
        "    y.append(r_function(i,[6,8]))\n",
        "\n",
        "plt.plot(x,y)\n",
        "plt.title('R membership function', fontsize='19')\n",
        "plt.xlabel('x -->', fontsize='19')\n",
        "plt.ylabel('y -->', fontsize='19')\n",
        "plt.show()"
      ],
      "execution_count": null,
      "outputs": []
    },
    {
      "cell_type": "markdown",
      "metadata": {
        "id": "BKC9EwSuQF5r"
      },
      "source": [
        "### L membership function"
      ]
    },
    {
      "cell_type": "code",
      "metadata": {
        "id": "WsaLLEd0Mjw_"
      },
      "source": [
        "def l_function(i, params):\n",
        "    a,b = params\n",
        "    \n",
        "    if i<a:\n",
        "        return 0\n",
        "    if a<=i<=b:\n",
        "        return (i-a)/(b-a)\n",
        "    if i>b:\n",
        "        return 1\n",
        "\n",
        "#input\n",
        "x = np.arange(0,10,0.1)\n",
        "#output\n",
        "y = []\n",
        "for i in x:\n",
        "    y.append(l_function(i,[2,4]))\n",
        "\n",
        "plt.plot(x,y)\n",
        "plt.title('L membership function', fontsize='19')\n",
        "plt.xlabel('x -->', fontsize='19')\n",
        "plt.ylabel('y -->', fontsize='19')\n",
        "plt.show()"
      ],
      "execution_count": null,
      "outputs": []
    },
    {
      "cell_type": "markdown",
      "metadata": {
        "id": "R1PcCOLSN3Yr"
      },
      "source": [
        "### Gaussian membership Function "
      ]
    },
    {
      "cell_type": "code",
      "metadata": {
        "id": "Xz6u0f4EMu5h"
      },
      "source": [
        "def gaussian(i, params):\n",
        "    m,k = params\n",
        "    return np.exp((-(i-m)**2)/(2*(k**2)))\n",
        "\n",
        "#input\n",
        "x = np.arange(0,10,0.1)\n",
        "#output\n",
        "y = []\n",
        "for i in x:\n",
        "    y.append(gaussian(i,[4,1]))\n",
        "\n",
        "plt.plot(x,y)\n",
        "plt.title('gaussian membership function', fontsize='19')\n",
        "plt.xlabel('x -->', fontsize='19')\n",
        "plt.ylabel('y -->', fontsize='19')\n",
        "plt.show()"
      ],
      "execution_count": null,
      "outputs": []
    }
  ]
}