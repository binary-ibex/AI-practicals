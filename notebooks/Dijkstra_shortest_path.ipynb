{
  "nbformat": 4,
  "nbformat_minor": 0,
  "metadata": {
    "colab": {
      "name": "Dijkstra_shortest_path.ipynb",
      "provenance": [],
      "authorship_tag": "ABX9TyN7CqMR+l2RTwA7g+4fnRO8",
      "include_colab_link": true
    },
    "kernelspec": {
      "name": "python3",
      "display_name": "Python 3"
    }
  },
  "cells": [
    {
      "cell_type": "markdown",
      "metadata": {
        "id": "view-in-github",
        "colab_type": "text"
      },
      "source": [
        "<a href=\"https://colab.research.google.com/github/binary-ibex/AI-practicals/blob/main/notebooks/Dijkstra_shortest_path.ipynb\" target=\"_parent\"><img src=\"https://colab.research.google.com/assets/colab-badge.svg\" alt=\"Open In Colab\"/></a>"
      ]
    },
    {
      "cell_type": "markdown",
      "metadata": {
        "id": "kVqcgTcCZIlI"
      },
      "source": [
        "# Dijkstra algorithm \n",
        "\n",
        "Dijkstra’s algorithm finds the shortest path from a starting node to a target node in a weighted graph.\n",
        "\n",
        "Dijkstra’s Shortest Path Algorithm explanation by computer science\n",
        "\n",
        "https://www.youtube.com/watch?v=pVfj6mxhdMw&feature=youtu.be\n",
        "\n",
        "Dr Mike Pound explanation of Dijkstra's shortest path. \n",
        "\n",
        "https://www.youtube.com/watch?v=GazC3A4OQTE"
      ]
    },
    {
      "cell_type": "markdown",
      "metadata": {
        "id": "MiOekK4ihxT8"
      },
      "source": [
        "Let's see how it works "
      ]
    },
    {
      "cell_type": "markdown",
      "metadata": {
        "id": "rQQxXDfGiza2"
      },
      "source": [
        "![dijkstra_algorithm.jpg](data:image/jpeg;base64,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)"
      ]
    },
    {
      "cell_type": "markdown",
      "metadata": {
        "id": "VeND_I4whTY9"
      },
      "source": [
        "```\n",
        "Consider the graph given above, here we will find the shortest path from the node A to node C using Dijkstra algorithm.\n",
        "\n",
        "Initalizition\n",
        "\n",
        "Visited = []\n",
        "sorted_list = []\n",
        "Initalize the nodes distance from node A\n",
        "A = 0\n",
        "B = inf\n",
        "C = inf\n",
        "D = inf\n",
        "E = inf\n",
        "======================================\n",
        "Current node A\n",
        "\n",
        "neighbours = B , D\n",
        "\n",
        "Total distance from node A\n",
        "B = 6 ...(6<inf)\n",
        "D = 1 ...(1<inf)\n",
        "\n",
        "put nodes in sorted list\n",
        "sorted_list = [(D , 1), (B , 6)]\n",
        "\n",
        "Add node A to visited list\n",
        "\n",
        "visited = [A]\n",
        "\n",
        "pop node D from the sorted list\n",
        "======================================\n",
        "\n",
        "Current node D\n",
        "\n",
        "neighbours = B , E , A\n",
        "\n",
        "since node A is already visited, we will ignore node A.\n",
        "\n",
        "Total distance from node A\n",
        "B = 3 ...(3<6)\n",
        "E = 2 ...(2<inf)\n",
        "\n",
        "put nodes in sorted list\n",
        "sorted_list = [(E , 2), (B , 3)]\n",
        "\n",
        "Add node D to visited list\n",
        "\n",
        "visited = [A, D]\n",
        "pop node E from the sorted list\n",
        "\n",
        "====================================\n",
        "\n",
        "Current node E\n",
        "\n",
        "neighbours = D , B, C\n",
        "\n",
        "since node D is already visited, we will ignore node D.\n",
        "\n",
        "Total distance from node A\n",
        "B = 3 ...(3<4)\n",
        "C = 7 ...(7<inf)\n",
        "\n",
        "put nodes in sorted list\n",
        "sorted_list = [(B , 3), (C , 7)]\n",
        "\n",
        "Add node E to visited list\n",
        "\n",
        "visited = [A, D, E]\n",
        "pop node B from the sorted list\n",
        "\n",
        "===================================\n",
        "\n",
        "Current node B\n",
        "\n",
        "neighbours = A , D, E, C\n",
        "\n",
        "since node D, A, E is already visited, we will ignore them.\n",
        "\n",
        "Total distance from node A\n",
        "C = 7 ...(7<8)\n",
        "\n",
        "\n",
        "put nodes in sorted list\n",
        "sorted_list = [(C , 7)]\n",
        "\n",
        "Add node B to visited list\n",
        "\n",
        "visited = [A, D, E, B]\n",
        "\n",
        "pop node C from the sorted list\n",
        "\n",
        "\n",
        "========================================\n",
        "Current node C\n",
        "\n",
        "neighbours = B , E\n",
        "\n",
        "since node B , E is already visited no node remain to visit from node C, so grapg traversing top here\n",
        "\n",
        "shortest path from node A to\n",
        "\n",
        "A = 0\n",
        "B = 3\n",
        "C = 7\n",
        "D = 1\n",
        "E = 2\n",
        "\n",
        "Shortest path from node A to node C is\n",
        "\n",
        "A > D > E > C\n",
        "\n",
        "path length = 7\n",
        "\n",
        "```"
      ]
    },
    {
      "cell_type": "code",
      "metadata": {
        "id": "_2yNb31hz6cx",
        "outputId": "80ea2d71-ec5f-4b5f-e695-089aec4d3e48",
        "colab": {
          "base_uri": "https://localhost:8080/"
        }
      },
      "source": [
        "def dijkstra(graph, start, end):\n",
        "    #dictionary for constructing path by storing previous node in it\n",
        "    backtrack = {}\n",
        "\n",
        "    #initalizing all node distance from start to infinity\n",
        "    for node in graph.keys():\n",
        "        backtrack[node] = [0 if node == start else float('inf'), None]\n",
        "\n",
        "    #empty path list\n",
        "    path = []\n",
        "\n",
        "    #temporary list\n",
        "    temp = [(start, 0)]\n",
        "\n",
        "    #keep track of visited node  \n",
        "    visited = []\n",
        "\n",
        "    while(temp):\n",
        "        #poping node at minimum distance from the source in temp list\n",
        "        N = temp.pop(0)[0]\n",
        "        if N not in visited:\n",
        "            visited.append(N)\n",
        "            for node, distance in graph[N].items():\n",
        "\n",
        "                #calculating the total cost to reach node\n",
        "                g = graph[N][node] + backtrack[N][0]\n",
        "                temp.append((node, g))\n",
        "\n",
        "                #if we find path with less cost to reach the node, than prevoius one then replace it with new path cost\n",
        "                if g<backtrack[node][0]:\n",
        "                    backtrack[node][0] = g\n",
        "                    backtrack[node][1] = N\n",
        "\n",
        "                #sorting the temp list according to weight or cost of the path\n",
        "                temp = list(sorted(temp, key= lambda x:x[1]))\n",
        "\n",
        "                #if we found the target then generate path and return it\n",
        "                if node == end:\n",
        "                    while(end):\n",
        "                        path = [end] + path\n",
        "                        end = backtrack[end][1]\n",
        "                    return path\n",
        "    #if no path found return None\n",
        "    return None\n",
        "\n",
        "#weighted graph implementation\n",
        "graph = {\n",
        "    'A' : {'B' : 6, 'D' :1 },\n",
        "    'B' : {'A' : 6, 'C': 5, 'E' :2, 'D' : 2},\n",
        "    'C' : {'B' : 5, 'E' : 5},\n",
        "    'D' : {'A': 1, 'B' : 2, 'E' : 1},\n",
        "    'E' : {'D' : 1, 'C' : 5}\n",
        "}\n",
        "\n",
        "#printing result\n",
        "print(dijkstra(graph, 'A', 'C'))\n",
        "\n"
      ],
      "execution_count": null,
      "outputs": [
        {
          "output_type": "stream",
          "text": [
            "['A', 'D', 'E', 'C']\n"
          ],
          "name": "stdout"
        }
      ]
    }
  ]
}